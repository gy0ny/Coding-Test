{
 "cells": [
  {
   "cell_type": "code",
   "execution_count": 53,
   "metadata": {},
   "outputs": [],
   "source": [
    "# 2022-05-22\n",
    "# 타겟넘버\n",
    "numbers = [1, 1, 1, 1, 1]\n",
    "target = 3"
   ]
  },
  {
   "cell_type": "code",
   "execution_count": 61,
   "metadata": {},
   "outputs": [],
   "source": [
    "ans = 0\n",
    "result = 0\n",
    "def dfs(i,numbers,target,result):\n",
    "    global ans # 함수 바깥에서도 사용할수있는 변수 생성\n",
    "    \n",
    "    if i == len(numbers) and result == target: # 조건 충족하면 + 1\n",
    "        ans += 1\n",
    "        return \n",
    "    \n",
    "    if i == len(numbers): #조건 충족하지 않으면 패스\n",
    "        return\n",
    "    \n",
    "    dfs(i+1,numbers,target,result+numbers[i])\n",
    "    dfs(i+1,numbers,target,result-numbers[i])\n",
    "    \n",
    "    "
   ]
  },
  {
   "cell_type": "code",
   "execution_count": 62,
   "metadata": {},
   "outputs": [],
   "source": [
    "dfs(0,numbers,target,result)"
   ]
  },
  {
   "cell_type": "code",
   "execution_count": 63,
   "metadata": {},
   "outputs": [
    {
     "data": {
      "text/plain": [
       "5"
      ]
     },
     "execution_count": 63,
     "metadata": {},
     "output_type": "execute_result"
    }
   ],
   "source": [
    "ans"
   ]
  },
  {
   "cell_type": "code",
   "execution_count": 64,
   "metadata": {
    "scrolled": true
   },
   "outputs": [],
   "source": [
    "# 다른 풀이 \n",
    "sup = [0]\n",
    "for i in numbers:\n",
    "    sub = []\n",
    "    for j in sup:\n",
    "        sub.append(j+i)\n",
    "        sub.append(j-i)\n",
    "    sup = sub\n",
    "    "
   ]
  },
  {
   "cell_type": "code",
   "execution_count": null,
   "metadata": {},
   "outputs": [],
   "source": [
    "# 다른 풀이 \n",
    "def solution(numbers, target): # target에서 값을 소거\n",
    "    if not numbers and target == 0 :\n",
    "        return 1\n",
    "    elif not numbers:\n",
    "        return 0\n",
    "    else:\n",
    "        return solution(numbers[1:], target-numbers[0]) + solution(numbers[1:], target+numbers[0])"
   ]
  },
  {
   "cell_type": "code",
   "execution_count": null,
   "metadata": {},
   "outputs": [],
   "source": []
  }
 ],
 "metadata": {
  "kernelspec": {
   "display_name": "Python 3",
   "language": "python",
   "name": "python3"
  },
  "language_info": {
   "codemirror_mode": {
    "name": "ipython",
    "version": 3
   },
   "file_extension": ".py",
   "mimetype": "text/x-python",
   "name": "python",
   "nbconvert_exporter": "python",
   "pygments_lexer": "ipython3",
   "version": "3.8.3"
  }
 },
 "nbformat": 4,
 "nbformat_minor": 4
}
