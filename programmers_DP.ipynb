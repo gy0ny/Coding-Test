{
 "cells": [
  {
   "cell_type": "code",
   "execution_count": 50,
   "metadata": {},
   "outputs": [],
   "source": [
    "# 2022-05-31\n",
    "# 피보나치"
   ]
  },
  {
   "cell_type": "code",
   "execution_count": 59,
   "metadata": {},
   "outputs": [],
   "source": [
    "d = [0]*100"
   ]
  },
  {
   "cell_type": "code",
   "execution_count": 60,
   "metadata": {},
   "outputs": [],
   "source": [
    "def fibo(x):\n",
    "    if x==1 or x==2:\n",
    "        return 1\n",
    "    if d[x] != 0:\n",
    "        return d[x]\n",
    "    #print(d[x],'---',x)\n",
    "    d[x] = fibo(x-1) + fibo(x-2)\n",
    "    #print(d[x],'**',x)\n",
    "    #print(d)\n",
    "    return d[x]"
   ]
  },
  {
   "cell_type": "code",
   "execution_count": 61,
   "metadata": {
    "scrolled": true
   },
   "outputs": [
    {
     "data": {
      "text/plain": [
       "218922995834555169026"
      ]
     },
     "execution_count": 61,
     "metadata": {},
     "output_type": "execute_result"
    }
   ],
   "source": [
    "fibo(99)"
   ]
  },
  {
   "cell_type": "code",
   "execution_count": 63,
   "metadata": {},
   "outputs": [],
   "source": [
    "# 2022-06-01\n",
    "# 정수삼각형"
   ]
  },
  {
   "cell_type": "code",
   "execution_count": 81,
   "metadata": {},
   "outputs": [],
   "source": [
    "triangle = [[7], [3, 8], [8, 1, 0], [2, 7, 4, 4], [4, 5, 2, 6, 5]] "
   ]
  },
  {
   "cell_type": "code",
   "execution_count": 82,
   "metadata": {},
   "outputs": [],
   "source": [
    "for i in range(len(triangle)):\n",
    "    for j in range(len(triangle[i])):\n",
    "        if i == 0:\n",
    "            continue\n",
    "        else:\n",
    "            if j == 0:\n",
    "                triangle[i][j] = triangle[i-1][j] + triangle[i][j]\n",
    "    \n",
    "            elif j == len(triangle[i])-1:\n",
    "                triangle[i][j] = triangle[i-1][j-1] + triangle[i][j]\n",
    "            else:\n",
    "                triangle[i][j] = max(triangle[i-1][j-1],triangle[i-1][j]) + triangle[i][j]"
   ]
  },
  {
   "cell_type": "code",
   "execution_count": 85,
   "metadata": {},
   "outputs": [
    {
     "data": {
      "text/plain": [
       "[24, 30, 27, 26, 24]"
      ]
     },
     "execution_count": 85,
     "metadata": {},
     "output_type": "execute_result"
    }
   ],
   "source": [
    "answer = max(triangle[-1])"
   ]
  },
  {
   "cell_type": "code",
   "execution_count": 86,
   "metadata": {},
   "outputs": [],
   "source": [
    "# 2022-06-04\n",
    "# n으로 표현"
   ]
  },
  {
   "cell_type": "code",
   "execution_count": 193,
   "metadata": {},
   "outputs": [],
   "source": [
    "N = 5\n",
    "number =  31168"
   ]
  },
  {
   "cell_type": "code",
   "execution_count": 162,
   "metadata": {},
   "outputs": [],
   "source": [
    "def calc(aa,bb):\n",
    "    result = set()\n",
    "    for a in aa:\n",
    "        for b in bb:\n",
    "            result.add(a+b)\n",
    "            result.add(a*b)\n",
    "            result.add(a-b)\n",
    "            if b != 0:\n",
    "                result.add(a/b)\n",
    "    return result"
   ]
  },
  {
   "cell_type": "code",
   "execution_count": 94,
   "metadata": {},
   "outputs": [],
   "source": [
    "# (1,N-1) , (2,N-2) , ... , (N-2,2),(N-1,1)\n",
    "#  N=3\n",
    "\n",
    "n=1\n",
    "[5]\n",
    "0\n",
    "[55]\n",
    "0+0\n",
    "\n",
    "n=2\n",
    "[[5],[55,...]]\n",
    " 0     1\n",
    " [555]]\n",
    " 0+1 1+0\n",
    "\n",
    "n=3\n",
    "[[5],[55,...]][555]\n",
    " 0 1 2\n",
    "[5555]\n",
    "0+2 1+1 2+0\n",
    "\n"
   ]
  },
  {
   "cell_type": "code",
   "execution_count": 195,
   "metadata": {
    "scrolled": true
   },
   "outputs": [],
   "source": [
    "result = [{N}]\n",
    "n = 0\n",
    "while number not in result[n] and n <= 8:\n",
    "    \n",
    "    if n == 0:\n",
    "        result.append(calc(result[n],result[n])|{int(f'{N}'*(n+2))})\n",
    "    \n",
    "    else:\n",
    "        temp = set()\n",
    "        for i in range(n+1):\n",
    "            temp = temp | calc(result[i],result[n-i])\n",
    "        temp = temp|{int(f'{N}'*(n+2))}\n",
    "        result.append(temp)  \n",
    "    n += 1"
   ]
  },
  {
   "cell_type": "code",
   "execution_count": null,
   "metadata": {},
   "outputs": [],
   "source": [
    "if n+1 > 8:\n",
    "    answer = -1\n",
    "else:\n",
    "    answer = n+1"
   ]
  }
 ],
 "metadata": {
  "kernelspec": {
   "display_name": "Python 3",
   "language": "python",
   "name": "python3"
  },
  "language_info": {
   "codemirror_mode": {
    "name": "ipython",
    "version": 3
   },
   "file_extension": ".py",
   "mimetype": "text/x-python",
   "name": "python",
   "nbconvert_exporter": "python",
   "pygments_lexer": "ipython3",
   "version": "3.8.3"
  }
 },
 "nbformat": 4,
 "nbformat_minor": 4
}
