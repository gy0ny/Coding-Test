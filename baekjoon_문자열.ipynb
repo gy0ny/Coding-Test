{
 "cells": [
  {
   "cell_type": "code",
   "execution_count": 1,
   "metadata": {},
   "outputs": [],
   "source": [
    "# 2022-05-26\n",
    "# 문자열 교환"
   ]
  },
  {
   "cell_type": "code",
   "execution_count": 3,
   "metadata": {},
   "outputs": [],
   "source": [
    "stg = 'abababababababa'"
   ]
  },
  {
   "cell_type": "code",
   "execution_count": 6,
   "metadata": {},
   "outputs": [],
   "source": [
    "num = stg.count('a')"
   ]
  },
  {
   "cell_type": "code",
   "execution_count": 49,
   "metadata": {},
   "outputs": [],
   "source": [
    "temp = 99"
   ]
  },
  {
   "cell_type": "code",
   "execution_count": 50,
   "metadata": {},
   "outputs": [],
   "source": [
    "stg_2 = stg+stg"
   ]
  },
  {
   "cell_type": "code",
   "execution_count": 51,
   "metadata": {
    "scrolled": true
   },
   "outputs": [
    {
     "name": "stdout",
     "output_type": "stream",
     "text": [
      "0 **\n",
      "4\n",
      "1 **\n",
      "4\n",
      "2 **\n",
      "4\n",
      "3 **\n",
      "4\n",
      "4 **\n",
      "4\n",
      "5 **\n",
      "4\n",
      "6 **\n",
      "4\n",
      "7 **\n",
      "4\n",
      "8 **\n",
      "3\n",
      "9 **\n",
      "4\n",
      "10 **\n",
      "3\n",
      "11 **\n",
      "4\n",
      "12 **\n",
      "3\n",
      "13 **\n",
      "4\n",
      "14 **\n",
      "3\n",
      "15 **\n",
      "4\n",
      "16 **\n",
      "4\n",
      "17 **\n",
      "4\n",
      "18 **\n",
      "4\n",
      "19 **\n",
      "4\n",
      "20 **\n",
      "4\n",
      "21 **\n",
      "4\n",
      "22 **\n",
      "4\n"
     ]
    }
   ],
   "source": [
    "for i in range(len(stg_2)-num+1): \n",
    "    c = stg_2[i:i+num].count('b')\n",
    "    if  c < temp:\n",
    "        temp = c\n",
    "    else:\n",
    "        pass"
   ]
  },
  {
   "cell_type": "code",
   "execution_count": 52,
   "metadata": {},
   "outputs": [
    {
     "data": {
      "text/plain": [
       "3"
      ]
     },
     "execution_count": 52,
     "metadata": {},
     "output_type": "execute_result"
    }
   ],
   "source": [
    "temp"
   ]
  }
 ],
 "metadata": {
  "kernelspec": {
   "display_name": "Python 3",
   "language": "python",
   "name": "python3"
  },
  "language_info": {
   "codemirror_mode": {
    "name": "ipython",
    "version": 3
   },
   "file_extension": ".py",
   "mimetype": "text/x-python",
   "name": "python",
   "nbconvert_exporter": "python",
   "pygments_lexer": "ipython3",
   "version": "3.8.3"
  }
 },
 "nbformat": 4,
 "nbformat_minor": 4
}
