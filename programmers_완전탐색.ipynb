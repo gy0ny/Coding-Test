{
 "cells": [
  {
   "cell_type": "code",
   "execution_count": 219,
   "metadata": {},
   "outputs": [],
   "source": [
    "# 2022-05-20\n",
    "# 소수 찾기\n",
    "numbers = '01197'"
   ]
  },
  {
   "cell_type": "code",
   "execution_count": 223,
   "metadata": {},
   "outputs": [],
   "source": [
    "import itertools\n",
    "import numpy as np\n",
    "from math import ceil \n",
    "\n",
    "def is_prime(num):\n",
    "    ans = 0\n",
    "    if num == 1 or num == 0:\n",
    "        ans += 1\n",
    "    else:\n",
    "        for i in range(2,int(np.sqrt(num))+1): \n",
    "            if num%i == 0: \n",
    "                ans += 1\n",
    "                break\n",
    "    return ans"
   ]
  },
  {
   "cell_type": "code",
   "execution_count": 224,
   "metadata": {},
   "outputs": [],
   "source": [
    "candidates =[]\n",
    "for i in range(1,len(numbers)+1): candidates += list(map(''.join,itertools.permutations(numbers, i)))\n",
    "candidates = set(np.array(candidates, dtype=int))\n",
    "answer = 0\n",
    "for c in candidates:\n",
    "    if is_prime(c) == 0:\n",
    "        answer += 1\n"
   ]
  },
  {
   "cell_type": "code",
   "execution_count": 225,
   "metadata": {
    "scrolled": true
   },
   "outputs": [
    {
     "data": {
      "text/plain": [
       "30"
      ]
     },
     "execution_count": 225,
     "metadata": {},
     "output_type": "execute_result"
    }
   ],
   "source": [
    "answer"
   ]
  },
  {
   "cell_type": "code",
   "execution_count": null,
   "metadata": {},
   "outputs": [],
   "source": [
    "# 다른 사람의 풀이\n",
    "\n",
    "from itertools import permutations\n",
    "def solution(n):\n",
    "    a = set()\n",
    "    \n",
    "    for i in range(len(n)): # set과 교집합으로 중복 제거\n",
    "        a |= set(map(int, map(\"\".join, permutations(list(n), i + 1))))#map 이중으로 사용하여 string 만들어서 int로\n",
    "    a -= set(range(0, 2)) # 0,1 제거\n",
    "    \n",
    "    for i in range(2, int(max(a) ** 0.5) + 1):\n",
    "        a -= set(range(i * 2, max(a) + 1, i))\n",
    "    return len(a)"
   ]
  },
  {
   "cell_type": "code",
   "execution_count": null,
   "metadata": {},
   "outputs": [],
   "source": [
    "# 에라토스테네스의 체 (소수인 수 리스트 구하기)\n",
    "def prime_list(n):\n",
    "    # 에라토스테네스의 체 초기화: n개 요소에 True 설정(소수로 간주)\n",
    "    sieve = [True] * n\n",
    "\n",
    "    # n의 최대 약수가 sqrt(n) 이하이므로 i=sqrt(n)까지 검사\n",
    "    m = int(n ** 0.5)\n",
    "    for i in range(2, m + 1):\n",
    "        if sieve[i] == True:           # i가 소수인 경우\n",
    "            for j in range(i+i, n, i): # i이후 i의 배수들을 False 판정\n",
    "                sieve[j] = False\n",
    "\n",
    "    # 소수 목록 산출\n",
    "    return [i for i in range(2, n) if sieve[i] == True]"
   ]
  },
  {
   "cell_type": "code",
   "execution_count": null,
   "metadata": {},
   "outputs": [],
   "source": []
  }
 ],
 "metadata": {
  "kernelspec": {
   "display_name": "Python 3",
   "language": "python",
   "name": "python3"
  },
  "language_info": {
   "codemirror_mode": {
    "name": "ipython",
    "version": 3
   },
   "file_extension": ".py",
   "mimetype": "text/x-python",
   "name": "python",
   "nbconvert_exporter": "python",
   "pygments_lexer": "ipython3",
   "version": "3.8.3"
  }
 },
 "nbformat": 4,
 "nbformat_minor": 4
}
