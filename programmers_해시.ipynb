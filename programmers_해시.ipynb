{
 "cells": [
  {
   "cell_type": "code",
   "execution_count": 1,
   "metadata": {},
   "outputs": [],
   "source": [
    "# 2022-05-17\n",
    "# 전화번호 목록"
   ]
  },
  {
   "cell_type": "code",
   "execution_count": 99,
   "metadata": {},
   "outputs": [],
   "source": [
    "phone_book = [\"119\", \"97674223\", \"1195524421\"]"
   ]
  },
  {
   "cell_type": "code",
   "execution_count": 93,
   "metadata": {},
   "outputs": [],
   "source": [
    "phone_book.sort(key=len)"
   ]
  },
  {
   "cell_type": "code",
   "execution_count": 94,
   "metadata": {},
   "outputs": [],
   "source": [
    "hash_table = { hash(obj):obj for obj in phone_book}"
   ]
  },
  {
   "cell_type": "code",
   "execution_count": 95,
   "metadata": {},
   "outputs": [],
   "source": [
    "for obj in phone_book:\n",
    "    for i in range(len(phone_book[0]),len(obj)): #제일 짧은번호 길이부터 시작해서\n",
    "        try:\n",
    "            if hash_table[hash(obj[0:i])]: #번호 길이 하나씩 늘려가면서 전화번호부에서 검색\n",
    "                answer = False \n",
    "                break\n",
    "        except KeyError: # 검색안돼서 에러 뜨는거 넘어가기\n",
    "            answer = True\n"
   ]
  },
  {
   "cell_type": "code",
   "execution_count": 96,
   "metadata": {},
   "outputs": [
    {
     "data": {
      "text/plain": [
       "False"
      ]
     },
     "execution_count": 96,
     "metadata": {},
     "output_type": "execute_result"
    }
   ],
   "source": [
    "answer"
   ]
  },
  {
   "cell_type": "code",
   "execution_count": null,
   "metadata": {},
   "outputs": [],
   "source": [
    "def solution(phone_book):\n",
    "    answer = True # 초기값 = True -> 한번도 없으면 True\n",
    "    phone_book.sort(key=len)\n",
    "    hash_table = { hash(obj):obj for obj in phone_book}\n",
    "    for obj in phone_book:\n",
    "        for i in range(len(phone_book[0]),len(obj)): #제일 짧은번호 길이부터 시작해서\n",
    "            try:\n",
    "                if hash_table[hash(obj[0:i])]: #번호 길이 하나씩 늘려가면서 전화번호부에서 검색\n",
    "                    answer = False #하나라도 있으면 answer는 False가 되면서 멈춤\n",
    "                    break\n",
    "            except KeyError: \n",
    "                print('')\n",
    "    return answer\n"
   ]
  },
  {
   "cell_type": "code",
   "execution_count": null,
   "metadata": {},
   "outputs": [],
   "source": [
    "# 다른 사람의 풀이\n",
    "def solution(phoneBook):\n",
    "    phoneBook = sorted(phoneBook) # 앞자리 같은 애들끼리 앞뒤로 모임\n",
    "\n",
    "    for p1, p2 in zip(phoneBook, phoneBook[1:]): # 앞뒤끼리 2개씩 묶음\n",
    "        if p2.startswith(p1): \n",
    "            return False\n",
    "    return True\n"
   ]
  },
  {
   "cell_type": "code",
   "execution_count": 1,
   "metadata": {},
   "outputs": [],
   "source": [
    "# 2022-05-26\n",
    "# 위장"
   ]
  },
  {
   "cell_type": "code",
   "execution_count": 2,
   "metadata": {},
   "outputs": [],
   "source": [
    "clothes = [[\"yellowhat\", \"headgear\"], [\"bluesunglasses\", \"eyewear\"], [\"green_turban\", \"headgear\"]]"
   ]
  },
  {
   "cell_type": "code",
   "execution_count": 17,
   "metadata": {},
   "outputs": [],
   "source": [
    "counts = { obj[1]:0 for obj in clothes }"
   ]
  },
  {
   "cell_type": "code",
   "execution_count": 18,
   "metadata": {},
   "outputs": [],
   "source": [
    "for c in clothes:\n",
    "    counts[c[1]] += 1"
   ]
  },
  {
   "cell_type": "code",
   "execution_count": 22,
   "metadata": {},
   "outputs": [],
   "source": [
    "ans = 1\n",
    "for s in counts:\n",
    "    ans *= (counts[s]+1)"
   ]
  },
  {
   "cell_type": "code",
   "execution_count": 23,
   "metadata": {},
   "outputs": [
    {
     "data": {
      "text/plain": [
       "6"
      ]
     },
     "execution_count": 23,
     "metadata": {},
     "output_type": "execute_result"
    }
   ],
   "source": [
    "answer = ans - 1"
   ]
  },
  {
   "cell_type": "code",
   "execution_count": 24,
   "metadata": {},
   "outputs": [],
   "source": [
    "# 2022-05-26\n",
    "# 베스트 앨범"
   ]
  },
  {
   "cell_type": "code",
   "execution_count": 75,
   "metadata": {},
   "outputs": [],
   "source": [
    "genres = [\"classic\", \"pop\", \"classic\", \"classic\", \"pop\"]\n",
    "plays = [500, 600, 150, 500, 2500]"
   ]
  },
  {
   "cell_type": "code",
   "execution_count": 76,
   "metadata": {},
   "outputs": [],
   "source": [
    "genre_counts = {obj:0 for obj in genres}"
   ]
  },
  {
   "cell_type": "code",
   "execution_count": 77,
   "metadata": {},
   "outputs": [],
   "source": [
    "for i in range(len(genres)):\n",
    "    genre_counts[genres[i]] += plays[i]"
   ]
  },
  {
   "cell_type": "code",
   "execution_count": 78,
   "metadata": {},
   "outputs": [],
   "source": [
    "rank = sorted(genre_counts.keys(), key = lambda item:item[1], reverse = True)"
   ]
  },
  {
   "cell_type": "code",
   "execution_count": 96,
   "metadata": {},
   "outputs": [],
   "source": [
    "songs = {i:(genre_counts[v[0]],v[1]) for i,v in enumerate(zip(genres,plays))}"
   ]
  },
  {
   "cell_type": "code",
   "execution_count": 114,
   "metadata": {},
   "outputs": [
    {
     "data": {
      "text/plain": [
       "{0: (1150, 500),\n",
       " 1: (3100, 600),\n",
       " 2: (1150, 150),\n",
       " 3: (1150, 500),\n",
       " 4: (3100, 2500)}"
      ]
     },
     "execution_count": 114,
     "metadata": {},
     "output_type": "execute_result"
    }
   ],
   "source": [
    "songs"
   ]
  },
  {
   "cell_type": "code",
   "execution_count": 118,
   "metadata": {},
   "outputs": [],
   "source": [
    "songs_std = sorted(songs.items(), key = lambda item:item[1][1])"
   ]
  },
  {
   "cell_type": "code",
   "execution_count": 119,
   "metadata": {
    "scrolled": true
   },
   "outputs": [
    {
     "data": {
      "text/plain": [
       "[(2, (1150, 150)),\n",
       " (0, (1150, 500)),\n",
       " (3, (1150, 500)),\n",
       " (1, (3100, 600)),\n",
       " (4, (3100, 2500))]"
      ]
     },
     "execution_count": 119,
     "metadata": {},
     "output_type": "execute_result"
    }
   ],
   "source": [
    "songs_std "
   ]
  },
  {
   "cell_type": "code",
   "execution_count": 122,
   "metadata": {},
   "outputs": [
    {
     "data": {
      "text/plain": [
       "dict_keys([1, 4, 2, 0, 3])"
      ]
     },
     "execution_count": 122,
     "metadata": {},
     "output_type": "execute_result"
    }
   ],
   "source": [
    "dict(sorted(songs_std, key = lambda item:item[1][0], reverse=True)).keys()"
   ]
  },
  {
   "cell_type": "code",
   "execution_count": null,
   "metadata": {},
   "outputs": [],
   "source": []
  }
 ],
 "metadata": {
  "kernelspec": {
   "display_name": "Python 3",
   "language": "python",
   "name": "python3"
  },
  "language_info": {
   "codemirror_mode": {
    "name": "ipython",
    "version": 3
   },
   "file_extension": ".py",
   "mimetype": "text/x-python",
   "name": "python",
   "nbconvert_exporter": "python",
   "pygments_lexer": "ipython3",
   "version": "3.8.3"
  }
 },
 "nbformat": 4,
 "nbformat_minor": 4
}
