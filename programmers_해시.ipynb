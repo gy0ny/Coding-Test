{
 "cells": [
  {
   "cell_type": "code",
   "execution_count": 1,
   "metadata": {},
   "outputs": [],
   "source": [
    "# 2022-05-27\n",
    "# 전화번호 목록"
   ]
  },
  {
   "cell_type": "code",
   "execution_count": 99,
   "metadata": {},
   "outputs": [],
   "source": [
    "phone_book = [\"119\", \"97674223\", \"1195524421\"]"
   ]
  },
  {
   "cell_type": "code",
   "execution_count": 93,
   "metadata": {},
   "outputs": [],
   "source": [
    "phone_book.sort(key=len)"
   ]
  },
  {
   "cell_type": "code",
   "execution_count": 94,
   "metadata": {},
   "outputs": [],
   "source": [
    "hash_table = { hash(obj):obj for obj in phone_book}"
   ]
  },
  {
   "cell_type": "code",
   "execution_count": 95,
   "metadata": {},
   "outputs": [],
   "source": [
    "for obj in phone_book:\n",
    "    for i in range(len(phone_book[0]),len(obj)): #제일 짧은번호 길이부터 시작해서\n",
    "        try:\n",
    "            if hash_table[hash(obj[0:i])]: #번호 길이 하나씩 늘려가면서 전화번호부에서 검색\n",
    "                answer = False \n",
    "                break\n",
    "        except KeyError: # 검색안돼서 에러 뜨는거 넘어가기\n",
    "            answer = True\n"
   ]
  },
  {
   "cell_type": "code",
   "execution_count": 96,
   "metadata": {},
   "outputs": [
    {
     "data": {
      "text/plain": [
       "False"
      ]
     },
     "execution_count": 96,
     "metadata": {},
     "output_type": "execute_result"
    }
   ],
   "source": [
    "answer"
   ]
  },
  {
   "cell_type": "code",
   "execution_count": null,
   "metadata": {},
   "outputs": [],
   "source": [
    "def solution(phone_book):\n",
    "    answer = True # 초기값 = True -> 한번도 없으면 True\n",
    "    phone_book.sort(key=len)\n",
    "    hash_table = { hash(obj):obj for obj in phone_book}\n",
    "    for obj in phone_book:\n",
    "        for i in range(len(phone_book[0]),len(obj)): #제일 짧은번호 길이부터 시작해서\n",
    "            try:\n",
    "                if hash_table[hash(obj[0:i])]: #번호 길이 하나씩 늘려가면서 전화번호부에서 검색\n",
    "                    answer = False #하나라도 있으면 answer는 False가 되면서 멈춤\n",
    "                    break\n",
    "            except KeyError: \n",
    "                print('')\n",
    "    return answer\n"
   ]
  },
  {
   "cell_type": "code",
   "execution_count": null,
   "metadata": {},
   "outputs": [],
   "source": [
    "# 다른 사람의 풀이\n",
    "def solution(phoneBook):\n",
    "    phoneBook = sorted(phoneBook) # 앞자리 같은 애들끼리 앞뒤로 모임\n",
    "\n",
    "    for p1, p2 in zip(phoneBook, phoneBook[1:]): # 앞뒤끼리 2개씩 묶음\n",
    "        if p2.startswith(p1): \n",
    "            return False\n",
    "    return True\n"
   ]
  },
  {
   "cell_type": "code",
   "execution_count": null,
   "metadata": {},
   "outputs": [],
   "source": []
  },
  {
   "cell_type": "code",
   "execution_count": null,
   "metadata": {},
   "outputs": [],
   "source": []
  }
 ],
 "metadata": {
  "kernelspec": {
   "display_name": "Python 3",
   "language": "python",
   "name": "python3"
  },
  "language_info": {
   "codemirror_mode": {
    "name": "ipython",
    "version": 3
   },
   "file_extension": ".py",
   "mimetype": "text/x-python",
   "name": "python",
   "nbconvert_exporter": "python",
   "pygments_lexer": "ipython3",
   "version": "3.8.3"
  }
 },
 "nbformat": 4,
 "nbformat_minor": 4
}
