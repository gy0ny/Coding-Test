{
 "cells": [
  {
   "cell_type": "code",
   "execution_count": 1,
   "metadata": {},
   "outputs": [],
   "source": [
    "# 2022-05-17\n",
    "# 전화번호 목록"
   ]
  },
  {
   "cell_type": "code",
   "execution_count": 99,
   "metadata": {},
   "outputs": [],
   "source": [
    "phone_book = [\"119\", \"97674223\", \"1195524421\"]"
   ]
  },
  {
   "cell_type": "code",
   "execution_count": 93,
   "metadata": {},
   "outputs": [],
   "source": [
    "phone_book.sort(key=len)"
   ]
  },
  {
   "cell_type": "code",
   "execution_count": 94,
   "metadata": {},
   "outputs": [],
   "source": [
    "hash_table = { hash(obj):obj for obj in phone_book}"
   ]
  },
  {
   "cell_type": "code",
   "execution_count": 95,
   "metadata": {},
   "outputs": [],
   "source": [
    "for obj in phone_book:\n",
    "    for i in range(len(phone_book[0]),len(obj)): #제일 짧은번호 길이부터 시작해서\n",
    "        try:\n",
    "            if hash_table[hash(obj[0:i])]: #번호 길이 하나씩 늘려가면서 전화번호부에서 검색\n",
    "                answer = False \n",
    "                break\n",
    "        except KeyError: # 검색안돼서 에러 뜨는거 넘어가기\n",
    "            answer = True\n"
   ]
  },
  {
   "cell_type": "code",
   "execution_count": 96,
   "metadata": {},
   "outputs": [
    {
     "data": {
      "text/plain": [
       "False"
      ]
     },
     "execution_count": 96,
     "metadata": {},
     "output_type": "execute_result"
    }
   ],
   "source": [
    "answer"
   ]
  },
  {
   "cell_type": "code",
   "execution_count": null,
   "metadata": {},
   "outputs": [],
   "source": [
    "def solution(phone_book):\n",
    "    answer = True # 초기값 = True -> 한번도 없으면 True\n",
    "    phone_book.sort(key=len)\n",
    "    hash_table = { hash(obj):obj for obj in phone_book}\n",
    "    for obj in phone_book:\n",
    "        for i in range(len(phone_book[0]),len(obj)): #제일 짧은번호 길이부터 시작해서\n",
    "            try:\n",
    "                if hash_table[hash(obj[0:i])]: #번호 길이 하나씩 늘려가면서 전화번호부에서 검색\n",
    "                    answer = False #하나라도 있으면 answer는 False가 되면서 멈춤\n",
    "                    break\n",
    "            except KeyError: \n",
    "                print('')\n",
    "    return answer\n"
   ]
  },
  {
   "cell_type": "code",
   "execution_count": null,
   "metadata": {},
   "outputs": [],
   "source": [
    "# 다른 사람의 풀이\n",
    "def solution(phoneBook):\n",
    "    phoneBook = sorted(phoneBook) # 앞자리 같은 애들끼리 앞뒤로 모임\n",
    "\n",
    "    for p1, p2 in zip(phoneBook, phoneBook[1:]): # 앞뒤끼리 2개씩 묶음\n",
    "        if p2.startswith(p1): \n",
    "            return False\n",
    "    return True\n"
   ]
  },
  {
   "cell_type": "code",
   "execution_count": 1,
   "metadata": {},
   "outputs": [],
   "source": [
    "# 2022-05-26\n",
    "# 위장"
   ]
  },
  {
   "cell_type": "code",
   "execution_count": 2,
   "metadata": {},
   "outputs": [],
   "source": [
    "clothes = [[\"yellowhat\", \"headgear\"], [\"bluesunglasses\", \"eyewear\"], [\"green_turban\", \"headgear\"]]"
   ]
  },
  {
   "cell_type": "code",
   "execution_count": 17,
   "metadata": {},
   "outputs": [],
   "source": [
    "counts = { obj[1]:0 for obj in clothes }"
   ]
  },
  {
   "cell_type": "code",
   "execution_count": 18,
   "metadata": {},
   "outputs": [],
   "source": [
    "for c in clothes:\n",
    "    counts[c[1]] += 1"
   ]
  },
  {
   "cell_type": "code",
   "execution_count": 22,
   "metadata": {},
   "outputs": [],
   "source": [
    "ans = 1\n",
    "for s in counts:\n",
    "    ans *= (counts[s]+1)"
   ]
  },
  {
   "cell_type": "code",
   "execution_count": 23,
   "metadata": {},
   "outputs": [
    {
     "data": {
      "text/plain": [
       "6"
      ]
     },
     "execution_count": 23,
     "metadata": {},
     "output_type": "execute_result"
    }
   ],
   "source": [
    "answer = ans - 1"
   ]
  },
  {
   "cell_type": "code",
   "execution_count": 124,
   "metadata": {},
   "outputs": [],
   "source": [
    "# 2022-05-26\n",
    "# 베스트 앨범\n",
    "# 장르마다 2개씩 수록하는 조건 빼먹음"
   ]
  },
  {
   "cell_type": "code",
   "execution_count": 171,
   "metadata": {},
   "outputs": [],
   "source": [
    "genres = [\"classic\", \"pop\", \"classic\", \"classic\", \"pop\"]\n",
    "plays = [500, 600, 150, 800, 2500]"
   ]
  },
  {
   "cell_type": "code",
   "execution_count": 126,
   "metadata": {},
   "outputs": [],
   "source": [
    "genre_counts = {obj:0 for obj in genres}\n",
    "for i in range(len(genres)):\n",
    "    genre_counts[genres[i]] += plays[i]\n",
    "    \n",
    "songs = {i:(genre_counts[v[0]],v[1]) for i,v in enumerate(zip(genres,plays))}\n",
    "songs_std = sorted(songs.items(), key = lambda item:item[1][1])\n",
    "answer = list(dict(sorted(songs_std, key = lambda item:item[1][0], reverse=True)).keys())"
   ]
  },
  {
   "cell_type": "code",
   "execution_count": 189,
   "metadata": {},
   "outputs": [],
   "source": [
    "# 장르마다 2개씩 수록하는 조건"
   ]
  },
  {
   "cell_type": "code",
   "execution_count": 190,
   "metadata": {},
   "outputs": [],
   "source": [
    "import numpy as np\n",
    "import itertools"
   ]
  },
  {
   "cell_type": "code",
   "execution_count": 191,
   "metadata": {},
   "outputs": [],
   "source": [
    "std = sorted(list(enumerate(zip(plays,genres))), key = lambda x:x[1][0], reverse = True)"
   ]
  },
  {
   "cell_type": "code",
   "execution_count": 192,
   "metadata": {},
   "outputs": [],
   "source": [
    "genre_counts = {obj:[0,[],[]] for obj in genres}\n",
    "for i,p in std:\n",
    "    genre_counts[genres[i]][0] += plays[i]\n",
    "    genre_counts[genres[i]][1].append(i)\n",
    "    genre_counts[genres[i]][2].append(p[0])\n",
    "    "
   ]
  },
  {
   "cell_type": "code",
   "execution_count": 193,
   "metadata": {},
   "outputs": [],
   "source": [
    "rank = sorted(genre_counts.items(), key = lambda x:x[1], reverse = True)"
   ]
  },
  {
   "cell_type": "code",
   "execution_count": 194,
   "metadata": {},
   "outputs": [],
   "source": [
    "answer = list(np.array([r[1][1][:2] for r in rank]).reshape(-1))"
   ]
  },
  {
   "cell_type": "code",
   "execution_count": 195,
   "metadata": {},
   "outputs": [],
   "source": [
    "answer = list(itertools.chain.from_iterable([r[1][1][:2] for r in rank]))"
   ]
  },
  {
   "cell_type": "code",
   "execution_count": null,
   "metadata": {},
   "outputs": [],
   "source": []
  }
 ],
 "metadata": {
  "kernelspec": {
   "display_name": "Python 3",
   "language": "python",
   "name": "python3"
  },
  "language_info": {
   "codemirror_mode": {
    "name": "ipython",
    "version": 3
   },
   "file_extension": ".py",
   "mimetype": "text/x-python",
   "name": "python",
   "nbconvert_exporter": "python",
   "pygments_lexer": "ipython3",
   "version": "3.8.3"
  }
 },
 "nbformat": 4,
 "nbformat_minor": 4
}
